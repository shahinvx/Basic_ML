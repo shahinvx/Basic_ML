{
 "cells": [
  {
   "cell_type": "markdown",
   "metadata": {},
   "source": [
    "# Matrix with  Numpy\n",
    "<h3> numpy.random , numpy.randn , numpy.rand , numpy.randint\n",
    "<h3> numpy.matlib , numpy.matlib.ones , numpy.matlib.zeros , numpy.matlib.identity , numpy.matlib.eye "
   ]
  },
  {
   "cell_type": "code",
   "execution_count": 2,
   "metadata": {},
   "outputs": [],
   "source": [
    "import numpy as np"
   ]
  },
  {
   "cell_type": "code",
   "execution_count": 26,
   "metadata": {},
   "outputs": [
    {
     "name": "stdout",
     "output_type": "stream",
     "text": [
      "Initial : \n",
      " [[0 0 1]\n",
      " [0 1 1]\n",
      " [1 0 1]\n",
      " [1 1 1]]\n"
     ]
    }
   ],
   "source": [
    "arr = np.array([[0,0,1],\n",
    "                [0,1,1],\n",
    "                [1,0,1],\n",
    "                [1,1,1]])\n",
    "print(\"Initial : \\n\",arr)"
   ]
  },
  {
   "cell_type": "code",
   "execution_count": 30,
   "metadata": {},
   "outputs": [
    {
     "name": "stdout",
     "output_type": "stream",
     "text": [
      "Transpose Matrix :\n",
      " [[0 0 1 1]\n",
      " [0 1 0 1]\n",
      " [1 1 1 1]]\n"
     ]
    }
   ],
   "source": [
    "print(\"Transpose Matrix :\\n\",arr.T)           # Transpose matrix"
   ]
  },
  {
   "cell_type": "code",
   "execution_count": 27,
   "metadata": {},
   "outputs": [
    {
     "name": "stdout",
     "output_type": "stream",
     "text": [
      "[[0. 0. 0.]\n",
      " [0. 0. 0.]\n",
      " [0. 0. 0.]\n",
      " [0. 0. 0.]]\n"
     ]
    }
   ],
   "source": [
    "import numpy.matlib as npm                    # to make array with zero\n",
    "zrr = npm.zeros((4,3,))\n",
    "print(zrr)"
   ]
  },
  {
   "cell_type": "code",
   "execution_count": 28,
   "metadata": {},
   "outputs": [
    {
     "name": "stdout",
     "output_type": "stream",
     "text": [
      "[[1. 1. 1.]\n",
      " [1. 1. 1.]\n",
      " [1. 1. 1.]\n",
      " [1. 1. 1.]]\n"
     ]
    }
   ],
   "source": [
    "orr = npm.ones((4,3))                        # to make array with ones\n",
    "print(orr)"
   ]
  },
  {
   "cell_type": "code",
   "execution_count": 29,
   "metadata": {},
   "outputs": [
    {
     "name": "stdout",
     "output_type": "stream",
     "text": [
      "[[0 1 0 0]\n",
      " [0 0 1 0]\n",
      " [0 0 0 1]\n",
      " [0 0 0 0]]\n"
     ]
    }
   ],
   "source": [
    "eye = npm.eye(4,k=1, dtype=int)              # LU decompose\n",
    "print(eye)"
   ]
  },
  {
   "cell_type": "code",
   "execution_count": 40,
   "metadata": {},
   "outputs": [
    {
     "name": "stdout",
     "output_type": "stream",
     "text": [
      "[[1 0 0 0]\n",
      " [0 1 0 0]\n",
      " [0 0 1 0]\n",
      " [0 0 0 1]]\n"
     ]
    }
   ],
   "source": [
    "ide = npm.identity(4, dtype=int)             # Diagonal identity\n",
    "print(ide)"
   ]
  },
  {
   "cell_type": "code",
   "execution_count": 6,
   "metadata": {},
   "outputs": [
    {
     "name": "stdout",
     "output_type": "stream",
     "text": [
      "[[4 1 2]\n",
      " [1 4 1]\n",
      " [2 3 1]\n",
      " [4 4 4]]\n"
     ]
    }
   ],
   "source": [
    "rna = np.random.randint(1,5,(4,3))           # Random array with cvalue between 1 - 5\n",
    "print(rna)"
   ]
  },
  {
   "cell_type": "code",
   "execution_count": 8,
   "metadata": {},
   "outputs": [
    {
     "name": "stdout",
     "output_type": "stream",
     "text": [
      "[[0.54477683 0.00400489 0.09294167]\n",
      " [0.59691372 0.38836283 0.05125591]\n",
      " [0.08677789 0.80841491 0.16354913]\n",
      " [0.19659659 0.20682337 0.60760068]]\n"
     ]
    }
   ],
   "source": [
    "rndm = np.random.rand(4,3)                   # 4*4 matrix 0 to 1\n",
    "print(rndm)"
   ]
  },
  {
   "cell_type": "code",
   "execution_count": 10,
   "metadata": {},
   "outputs": [
    {
     "name": "stdout",
     "output_type": "stream",
     "text": [
      "[[-0.44058596 -1.3800832   1.3145466  -0.29221771]\n",
      " [-1.64580323  2.15978967 -1.06446179 -1.18224778]\n",
      " [ 0.23647026  0.6283979  -2.08686014 -0.15306678]\n",
      " [-1.480108    0.45691388 -0.88750773 -0.9228129 ]]\n"
     ]
    }
   ],
   "source": [
    "rndm = np.random.randn(4,4)                  # 4*4 matrix -1 to 1\n",
    "print(rndm)"
   ]
  },
  {
   "cell_type": "markdown",
   "metadata": {},
   "source": [
    "# Matrix Mul, Sub, Div, Add, Dot, Square, exp, Log"
   ]
  },
  {
   "cell_type": "code",
   "execution_count": 21,
   "metadata": {},
   "outputs": [
    {
     "name": "stdout",
     "output_type": "stream",
     "text": [
      "Multiplication : \n",
      " [[1 0 2]\n",
      " [0 7 3]\n",
      " [8 0 4]]\n",
      "Divition : \n",
      " [[1.         0.         0.5       ]\n",
      " [0.         0.14285714 0.33333333]\n",
      " [0.125      0.         0.25      ]]\n",
      "Addition : \n",
      " [[2 1 3]\n",
      " [1 8 4]\n",
      " [9 1 5]]\n",
      "Subtraction : \n",
      " [[ 0 -1 -1]\n",
      " [-1 -6 -2]\n",
      " [-7 -1 -3]]\n",
      "Dot : \n",
      " [[9 2 6]\n",
      " [9 8 7]\n",
      " [9 2 6]]\n"
     ]
    }
   ],
   "source": [
    "arr = np.array([[1,0,1],\n",
    "                [0,1,1],\n",
    "                [1,0,1]])\n",
    "\n",
    "brr = np.array([[1,1,2],\n",
    "                [1,7,3],\n",
    "                [8,1,4]])        \n",
    "\n",
    "print(\"Multiplication : \\n\",arr*brr)\n",
    "print(\"Divition : \\n\",arr/brr)\n",
    "print(\"Addition : \\n\",arr+brr)\n",
    "print(\"Subtraction : \\n\",arr-brr)\n",
    "print(\"Dot : \\n\",np.dot(arr,brr))           # Need Square matrix"
   ]
  },
  {
   "cell_type": "code",
   "execution_count": 25,
   "metadata": {},
   "outputs": [
    {
     "name": "stdout",
     "output_type": "stream",
     "text": [
      "Square : \n",
      " [[1 0 1]\n",
      " [0 1 1]\n",
      " [1 0 1]]\n",
      "Exponential : \n",
      " [[2.71828183 1.         2.71828183]\n",
      " [1.         2.71828183 2.71828183]\n",
      " [2.71828183 1.         2.71828183]]\n",
      "Log : \n",
      " [[0.         0.         0.30103   ]\n",
      " [0.         0.84509804 0.47712125]\n",
      " [0.90308999 0.         0.60205999]]\n"
     ]
    }
   ],
   "source": [
    "print(\"Square : \\n\",np.square(arr))\n",
    "print(\"Exponential : \\n\",np.exp(arr))\n",
    "print(\"Log : \\n\",np.log10(brr))             # can't divide by zero"
   ]
  },
  {
   "cell_type": "code",
   "execution_count": null,
   "metadata": {},
   "outputs": [],
   "source": []
  }
 ],
 "metadata": {
  "kernelspec": {
   "display_name": "Python 3",
   "language": "python",
   "name": "python3"
  },
  "language_info": {
   "codemirror_mode": {
    "name": "ipython",
    "version": 3
   },
   "file_extension": ".py",
   "mimetype": "text/x-python",
   "name": "python",
   "nbconvert_exporter": "python",
   "pygments_lexer": "ipython3",
   "version": "3.6.5"
  }
 },
 "nbformat": 4,
 "nbformat_minor": 4
}
