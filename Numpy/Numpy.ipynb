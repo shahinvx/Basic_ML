{
 "cells": [
  {
   "cell_type": "markdown",
   "metadata": {},
   "source": [
    "# Numpy\n",
    "<h4>Basic rand, rndn, randint ,seed, choice, permutation "
   ]
  },
  {
   "cell_type": "code",
   "execution_count": 58,
   "metadata": {
    "ExecuteTime": {
     "end_time": "2019-10-12T12:54:08.006547Z",
     "start_time": "2019-10-12T12:54:07.937732Z"
    }
   },
   "outputs": [],
   "source": [
    "import numpy as np"
   ]
  },
  {
   "cell_type": "code",
   "execution_count": 14,
   "metadata": {},
   "outputs": [
    {
     "name": "stdout",
     "output_type": "stream",
     "text": [
      "Total  6\n",
      "Exp  [ 2.71828183  7.3890561  20.08553692]\n",
      "Log  [0.         0.30103    0.47712125]\n"
     ]
    }
   ],
   "source": [
    "arr = np.array([1,2,3])\n",
    "tot = np.sum(arr)\n",
    "print(\"Total \",tot)\n",
    "print(\"Exp \",np.exp(arr))\n",
    "print(\"Log \",np.log10(arr))"
   ]
  },
  {
   "cell_type": "code",
   "execution_count": 15,
   "metadata": {},
   "outputs": [
    {
     "name": "stdout",
     "output_type": "stream",
     "text": [
      "1\n",
      "2\n",
      "3\n"
     ]
    }
   ],
   "source": [
    "for x in arr:\n",
    "    print(x)"
   ]
  },
  {
   "cell_type": "code",
   "execution_count": 31,
   "metadata": {},
   "outputs": [
    {
     "name": "stdout",
     "output_type": "stream",
     "text": [
      "Normal  [1 2 3]\n",
      "1\n",
      "2\n",
      "3\n"
     ]
    }
   ],
   "source": [
    "brr = np.array([1,2,3]).T # Transpose of matrix\n",
    "print(\"Normal \", brr)\n",
    "for x in brr:\n",
    "    print(x)"
   ]
  },
  {
   "cell_type": "code",
   "execution_count": 38,
   "metadata": {},
   "outputs": [
    {
     "name": "stdout",
     "output_type": "stream",
     "text": [
      "Random 2d Array \n",
      " [[0.09036347 0.46406179 0.07782547]\n",
      " [0.26045416 0.5870357  0.76320394]\n",
      " [0.37956164 0.50816043 0.25840868]\n",
      " [0.96335992 0.1649744  0.64153585]\n",
      " [0.76419461 0.03887893 0.42488153]]\n"
     ]
    }
   ],
   "source": [
    "rndm = np.random.random((5,3)) # 5 row 3 column\n",
    "print(\"Random 2d Array \\n\",rndm)"
   ]
  },
  {
   "cell_type": "code",
   "execution_count": 39,
   "metadata": {},
   "outputs": [
    {
     "name": "stdout",
     "output_type": "stream",
     "text": [
      "Normal \n",
      " [[3 3 1 4]\n",
      " [1 4 3 3]\n",
      " [1 1 4 4]\n",
      " [1 3 1 4]]\n",
      "Transpose \n",
      " [[3 1 1 1]\n",
      " [3 4 1 3]\n",
      " [1 3 4 1]\n",
      " [4 3 4 4]]\n"
     ]
    }
   ],
   "source": [
    "rndm = np.random.randint(1,5,(4,4)) # 1 - 5 range 4*4 matrix\n",
    "print(\"Normal \\n\",rndm)\n",
    "print(\"Transpose \\n\",rndm.T)"
   ]
  },
  {
   "cell_type": "code",
   "execution_count": 42,
   "metadata": {},
   "outputs": [
    {
     "name": "stdout",
     "output_type": "stream",
     "text": [
      "[[[-0.85898545 -1.62184713 -1.38872867 -0.56343955]\n",
      "  [-1.21208322 -0.47761041 -0.91276551 -0.25901626]\n",
      "  [-0.73758179 -0.03620677  0.31678889 -0.42979328]\n",
      "  [ 0.71269526 -0.37570592 -0.48986625  0.11297153]]\n",
      "\n",
      " [[-0.69442772  0.31033134  0.68839599  1.4336217 ]\n",
      "  [-0.61347686  0.78291879 -1.26823287 -0.92582226]\n",
      "  [-1.85966918  1.21187845 -1.30002597 -0.33892382]\n",
      "  [ 0.01347796  0.13857357  0.78625346  2.1306687 ]]]\n"
     ]
    }
   ],
   "source": [
    "rndm = np.random.randn(2,4,4) # 2 time 4*4 matrix -1 to 1\n",
    "print(rndm)"
   ]
  },
  {
   "cell_type": "code",
   "execution_count": 53,
   "metadata": {},
   "outputs": [
    {
     "name": "stdout",
     "output_type": "stream",
     "text": [
      "[[[0.39676747 0.53881673 0.41919451 0.6852195 ]\n",
      "  [0.20445225 0.87811744 0.02738759 0.67046751]\n",
      "  [0.4173048  0.55868983 0.14038694 0.19810149]\n",
      "  [0.80074457 0.96826158 0.31342418 0.69232262]]\n",
      "\n",
      " [[0.87638915 0.89460666 0.08504421 0.03905478]\n",
      "  [0.16983042 0.8781425  0.09834683 0.42110763]\n",
      "  [0.95788953 0.53316528 0.69187711 0.31551563]\n",
      "  [0.68650093 0.83462567 0.01828828 0.75014431]]]\n"
     ]
    }
   ],
   "source": [
    "rndm = np.random.rand(2,4,4) # 2 time 4*4 matrix 0 to 1\n",
    "print(rndm)"
   ]
  },
  {
   "cell_type": "code",
   "execution_count": 43,
   "metadata": {},
   "outputs": [
    {
     "name": "stdout",
     "output_type": "stream",
     "text": [
      "[[[2 2 4 4]\n",
      "  [3 4 3 3]\n",
      "  [3 1 1 2]\n",
      "  [1 1 2 3]]\n",
      "\n",
      " [[2 2 2 3]\n",
      "  [3 4 3 4]\n",
      "  [3 1 3 1]\n",
      "  [2 3 3 4]]]\n"
     ]
    }
   ],
   "source": [
    "rndm = np.random.randint(1,5,(2,4,4)) # 2, 4, 4 [2 time 4*4 matrix]\n",
    "print(rndm)"
   ]
  },
  {
   "cell_type": "code",
   "execution_count": 50,
   "metadata": {},
   "outputs": [
    {
     "name": "stdout",
     "output_type": "stream",
     "text": [
      "[[2 4 1 1]\n",
      " [4 2 4 2]\n",
      " [4 1 1 2]\n",
      " [1 4 2 1]]\n"
     ]
    }
   ],
   "source": [
    "np.random.seed(1)                   # same value \n",
    "rndm = np.random.randint(1,5,(4,4))\n",
    "print(rndm)"
   ]
  },
  {
   "cell_type": "code",
   "execution_count": 52,
   "metadata": {},
   "outputs": [
    {
     "name": "stdout",
     "output_type": "stream",
     "text": [
      "[[2 4 1 1]\n",
      " [4 2 4 2]\n",
      " [4 1 1 2]\n",
      " [1 4 2 1]]\n"
     ]
    }
   ],
   "source": [
    "np.random.seed(1)\n",
    "rndm = np.random.randint(1,5,(4,4))\n",
    "print(rndm)"
   ]
  },
  {
   "cell_type": "code",
   "execution_count": 55,
   "metadata": {},
   "outputs": [
    {
     "name": "stdout",
     "output_type": "stream",
     "text": [
      "1 3 2 4 4 3 4 2 1 4 2 2 4 3 1 1 3 3 4 4 "
     ]
    }
   ],
   "source": [
    "x = [1,2,3,4]                        # take random value from x\n",
    "for i in range(20):\n",
    "    print(np.random.choice(x),end=\" \")"
   ]
  },
  {
   "cell_type": "code",
   "execution_count": 56,
   "metadata": {},
   "outputs": [
    {
     "name": "stdout",
     "output_type": "stream",
     "text": [
      "[1 3 2 4]\n",
      "[2 3 1 4]\n",
      "[2 1 4 3]\n",
      "[4 3 2 1]\n",
      "[4 3 1 2]\n"
     ]
    }
   ],
   "source": [
    "for i in range(5):                   # random permutation\n",
    "    print(np.random.permutation(x))"
   ]
  }
 ],
 "metadata": {
  "kernelspec": {
   "display_name": "Python 3",
   "language": "python",
   "name": "python3"
  },
  "language_info": {
   "codemirror_mode": {
    "name": "ipython",
    "version": 3
   },
   "file_extension": ".py",
   "mimetype": "text/x-python",
   "name": "python",
   "nbconvert_exporter": "python",
   "pygments_lexer": "ipython3",
   "version": "3.6.5"
  },
  "latex_envs": {
   "LaTeX_envs_menu_present": true,
   "autoclose": false,
   "autocomplete": true,
   "bibliofile": "biblio.bib",
   "cite_by": "apalike",
   "current_citInitial": 1,
   "eqLabelWithNumbers": true,
   "eqNumInitial": 1,
   "hotkeys": {
    "equation": "Ctrl-E",
    "itemize": "Ctrl-I"
   },
   "labels_anchors": false,
   "latex_user_defs": false,
   "report_style_numbering": false,
   "user_envs_cfg": false
  }
 },
 "nbformat": 4,
 "nbformat_minor": 4
}
